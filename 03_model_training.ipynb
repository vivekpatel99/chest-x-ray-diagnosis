{
 "cells": [
  {
   "cell_type": "markdown",
   "metadata": {
    "_cell_guid": "b1076dfc-b9ad-4769-8c92-a6c4dae69d19",
    "_uuid": "8f2839f25d086af736a60e9eeb907d3b93b6e0e5",
    "execution": {
     "iopub.execute_input": "2025-03-02T07:06:22.039762Z",
     "iopub.status.busy": "2025-03-02T07:06:22.039402Z",
     "iopub.status.idle": "2025-03-02T07:06:32.200919Z",
     "shell.execute_reply": "2025-03-02T07:06:32.199836Z",
     "shell.execute_reply.started": "2025-03-02T07:06:22.039734Z"
    }
   },
   "source": [
    "# NIH Chest X-ray Multi label Binary classification using Tensorflow Densenet121 (Transfer learning)\n"
   ]
  },
  {
   "cell_type": "markdown",
   "metadata": {},
   "source": [
    "## Imports"
   ]
  },
  {
   "cell_type": "code",
   "execution_count": 1,
   "metadata": {
    "execution": {
     "iopub.execute_input": "2025-03-02T10:25:58.836148Z",
     "iopub.status.busy": "2025-03-02T10:25:58.835783Z",
     "iopub.status.idle": "2025-03-02T10:26:14.649285Z",
     "shell.execute_reply": "2025-03-02T10:26:14.647955Z",
     "shell.execute_reply.started": "2025-03-02T10:25:58.836120Z"
    },
    "trusted": true
   },
   "outputs": [
    {
     "name": "stderr",
     "output_type": "stream",
     "text": [
      "2025-03-02 12:57:37.624520: E external/local_xla/xla/stream_executor/cuda/cuda_fft.cc:477] Unable to register cuFFT factory: Attempting to register factory for plugin cuFFT when one has already been registered\n",
      "WARNING: All log messages before absl::InitializeLog() is called are written to STDERR\n",
      "E0000 00:00:1740920257.638167  133566 cuda_dnn.cc:8310] Unable to register cuDNN factory: Attempting to register factory for plugin cuDNN when one has already been registered\n",
      "E0000 00:00:1740920257.643802  133566 cuda_blas.cc:1418] Unable to register cuBLAS factory: Attempting to register factory for plugin cuBLAS when one has already been registered\n"
     ]
    }
   ],
   "source": [
    "import os\n",
    "\n",
    "# Set environment variables\n",
    "os.environ['TF_FORCE_GPU_ALLOW_GROWTH'] = 'true'\n",
    "os.environ['CUDA_VISIBLE_DEVICES'] = '0'\n",
    "os.environ['TF_CPP_MIN_LOG_LEVEL'] = '2' \n",
    "\n",
    "import tensorflow as tf\n",
    "tf.get_logger().setLevel('ERROR')\n",
    "tf.random.set_seed(42)"
   ]
  },
  {
   "cell_type": "code",
   "execution_count": 2,
   "metadata": {
    "execution": {
     "iopub.execute_input": "2025-03-02T10:26:14.652600Z",
     "iopub.status.busy": "2025-03-02T10:26:14.651810Z",
     "iopub.status.idle": "2025-03-02T10:26:14.662952Z",
     "shell.execute_reply": "2025-03-02T10:26:14.661875Z",
     "shell.execute_reply.started": "2025-03-02T10:26:14.652529Z"
    },
    "trusted": true
   },
   "outputs": [
    {
     "data": {
      "text/plain": [
       "([PhysicalDevice(name='/physical_device:GPU:0', device_type='GPU')], '2.18.0')"
      ]
     },
     "execution_count": 2,
     "metadata": {},
     "output_type": "execute_result"
    }
   ],
   "source": [
    "found_gpu = tf.config.list_physical_devices('GPU')\n",
    "if not found_gpu:\n",
    "    raise Exception(\"No GPU found\")\n",
    "found_gpu, tf.__version__"
   ]
  },
  {
   "cell_type": "code",
   "execution_count": 3,
   "metadata": {
    "execution": {
     "iopub.execute_input": "2025-03-02T10:26:14.665526Z",
     "iopub.status.busy": "2025-03-02T10:26:14.665122Z",
     "iopub.status.idle": "2025-03-02T10:26:15.927292Z",
     "shell.execute_reply": "2025-03-02T10:26:15.926295Z",
     "shell.execute_reply.started": "2025-03-02T10:26:14.665487Z"
    },
    "trusted": true
   },
   "outputs": [],
   "source": [
    "import numpy as np\n",
    "import pandas as pd\n",
    "import seaborn as sns\n",
    "import matplotlib.pyplot as plt\n",
    "from sklearn.model_selection import train_test_split\n",
    "from pathlib import Path\n",
    "import opendatasets as od\n",
    "\n",
    "from tensorflow.keras.applications.densenet import DenseNet121\n",
    "from tensorflow.keras.layers import Dense, GlobalAveragePooling2D\n",
    "from tensorflow.keras.models import Model\n",
    "from tensorflow.keras import backend as K"
   ]
  },
  {
   "cell_type": "markdown",
   "metadata": {},
   "source": [
    "## Constants"
   ]
  },
  {
   "cell_type": "code",
   "execution_count": 4,
   "metadata": {
    "execution": {
     "iopub.execute_input": "2025-03-02T10:26:15.929464Z",
     "iopub.status.busy": "2025-03-02T10:26:15.928853Z",
     "iopub.status.idle": "2025-03-02T10:26:15.934204Z",
     "shell.execute_reply": "2025-03-02T10:26:15.933185Z",
     "shell.execute_reply.started": "2025-03-02T10:26:15.929433Z"
    },
    "trusted": true
   },
   "outputs": [],
   "source": [
    "\n",
    "IMAGE_SIZE = 320\n",
    "BATCH_SIZE = 16"
   ]
  },
  {
   "cell_type": "markdown",
   "metadata": {},
   "source": [
    "## Download the dataset\n"
   ]
  },
  {
   "cell_type": "code",
   "execution_count": 5,
   "metadata": {},
   "outputs": [],
   "source": [
    "dataset_url = 'https://www.kaggle.com/datasets/nih-chest-xrays/sample'\n",
    "\n",
    "# Look into the data directory\n",
    "datasets = 'datasets/sample'\n",
    "dataset_path = Path(datasets)\n",
    "IMAGE_DIR = dataset_path /'sample/images'\n",
    "CSV_PATH = dataset_path /'sample/sample_labels.csv'\n",
    "dataset_path.mkdir(parents=True, exist_ok=True)\n",
    "if not dataset_path.is_dir():\n",
    "    od.download(dataset_url)"
   ]
  },
  {
   "cell_type": "markdown",
   "metadata": {},
   "source": [
    "## Load Datasets"
   ]
  },
  {
   "cell_type": "code",
   "execution_count": 6,
   "metadata": {
    "execution": {
     "iopub.execute_input": "2025-03-02T10:26:15.935705Z",
     "iopub.status.busy": "2025-03-02T10:26:15.935348Z",
     "iopub.status.idle": "2025-03-02T10:26:16.017730Z",
     "shell.execute_reply": "2025-03-02T10:26:16.016598Z",
     "shell.execute_reply.started": "2025-03-02T10:26:15.935679Z"
    },
    "trusted": true
   },
   "outputs": [
    {
     "name": "stdout",
     "output_type": "stream",
     "text": [
      "<class 'pandas.core.frame.DataFrame'>\n",
      "RangeIndex: 5606 entries, 0 to 5605\n",
      "Data columns (total 11 columns):\n",
      " #   Column                       Non-Null Count  Dtype  \n",
      "---  ------                       --------------  -----  \n",
      " 0   Image Index                  5606 non-null   object \n",
      " 1   Finding Labels               5606 non-null   object \n",
      " 2   Follow-up #                  5606 non-null   int64  \n",
      " 3   Patient ID                   5606 non-null   int64  \n",
      " 4   Patient Age                  5606 non-null   object \n",
      " 5   Patient Gender               5606 non-null   object \n",
      " 6   View Position                5606 non-null   object \n",
      " 7   OriginalImageWidth           5606 non-null   int64  \n",
      " 8   OriginalImageHeight          5606 non-null   int64  \n",
      " 9   OriginalImagePixelSpacing_x  5606 non-null   float64\n",
      " 10  OriginalImagePixelSpacing_y  5606 non-null   float64\n",
      "dtypes: float64(2), int64(4), object(5)\n",
      "memory usage: 481.9+ KB\n"
     ]
    }
   ],
   "source": [
    "sample_df = pd.read_csv(CSV_PATH)\n",
    "sample_df.info()"
   ]
  },
  {
   "cell_type": "code",
   "execution_count": 7,
   "metadata": {
    "execution": {
     "iopub.execute_input": "2025-03-02T10:26:16.019091Z",
     "iopub.status.busy": "2025-03-02T10:26:16.018822Z",
     "iopub.status.idle": "2025-03-02T10:26:16.025872Z",
     "shell.execute_reply": "2025-03-02T10:26:16.024849Z",
     "shell.execute_reply.started": "2025-03-02T10:26:16.019070Z"
    },
    "trusted": true
   },
   "outputs": [
    {
     "data": {
      "text/plain": [
       "Index(['Image Index', 'Finding Labels', 'Follow-up #', 'Patient ID',\n",
       "       'Patient Age', 'Patient Gender', 'View Position', 'OriginalImageWidth',\n",
       "       'OriginalImageHeight', 'OriginalImagePixelSpacing_x',\n",
       "       'OriginalImagePixelSpacing_y'],\n",
       "      dtype='object')"
      ]
     },
     "execution_count": 7,
     "metadata": {},
     "output_type": "execute_result"
    }
   ],
   "source": [
    "sample_df.columns"
   ]
  },
  {
   "cell_type": "code",
   "execution_count": 8,
   "metadata": {},
   "outputs": [],
   "source": [
    "valid_csv= 'datasets/valid-small.csv'\n",
    "test_csv= 'datasets/test.csv'\n",
    "\n",
    "valid_df = pd.read_csv(f\"{valid_csv}\")\n",
    "test_df = pd.read_csv(f\"{test_csv}\")"
   ]
  },
  {
   "cell_type": "code",
   "execution_count": 9,
   "metadata": {},
   "outputs": [
    {
     "data": {
      "text/html": [
       "<div>\n",
       "<style scoped>\n",
       "    .dataframe tbody tr th:only-of-type {\n",
       "        vertical-align: middle;\n",
       "    }\n",
       "\n",
       "    .dataframe tbody tr th {\n",
       "        vertical-align: top;\n",
       "    }\n",
       "\n",
       "    .dataframe thead th {\n",
       "        text-align: right;\n",
       "    }\n",
       "</style>\n",
       "<table border=\"1\" class=\"dataframe\">\n",
       "  <thead>\n",
       "    <tr style=\"text-align: right;\">\n",
       "      <th></th>\n",
       "      <th>Image</th>\n",
       "      <th>Atelectasis</th>\n",
       "      <th>Cardiomegaly</th>\n",
       "      <th>Consolidation</th>\n",
       "      <th>Edema</th>\n",
       "      <th>Effusion</th>\n",
       "      <th>Emphysema</th>\n",
       "      <th>Fibrosis</th>\n",
       "      <th>Hernia</th>\n",
       "      <th>Infiltration</th>\n",
       "      <th>Mass</th>\n",
       "      <th>Nodule</th>\n",
       "      <th>PatientId</th>\n",
       "      <th>Pleural_Thickening</th>\n",
       "      <th>Pneumonia</th>\n",
       "      <th>Pneumothorax</th>\n",
       "    </tr>\n",
       "  </thead>\n",
       "  <tbody>\n",
       "    <tr>\n",
       "      <th>0</th>\n",
       "      <td>00008270_015.png</td>\n",
       "      <td>0</td>\n",
       "      <td>0</td>\n",
       "      <td>0</td>\n",
       "      <td>0</td>\n",
       "      <td>0</td>\n",
       "      <td>0</td>\n",
       "      <td>0</td>\n",
       "      <td>0</td>\n",
       "      <td>0</td>\n",
       "      <td>0</td>\n",
       "      <td>0</td>\n",
       "      <td>8270</td>\n",
       "      <td>0</td>\n",
       "      <td>0</td>\n",
       "      <td>0</td>\n",
       "    </tr>\n",
       "    <tr>\n",
       "      <th>1</th>\n",
       "      <td>00029855_001.png</td>\n",
       "      <td>1</td>\n",
       "      <td>0</td>\n",
       "      <td>0</td>\n",
       "      <td>0</td>\n",
       "      <td>1</td>\n",
       "      <td>0</td>\n",
       "      <td>0</td>\n",
       "      <td>0</td>\n",
       "      <td>1</td>\n",
       "      <td>0</td>\n",
       "      <td>0</td>\n",
       "      <td>29855</td>\n",
       "      <td>0</td>\n",
       "      <td>0</td>\n",
       "      <td>0</td>\n",
       "    </tr>\n",
       "    <tr>\n",
       "      <th>2</th>\n",
       "      <td>00001297_000.png</td>\n",
       "      <td>0</td>\n",
       "      <td>0</td>\n",
       "      <td>0</td>\n",
       "      <td>0</td>\n",
       "      <td>0</td>\n",
       "      <td>0</td>\n",
       "      <td>0</td>\n",
       "      <td>0</td>\n",
       "      <td>0</td>\n",
       "      <td>0</td>\n",
       "      <td>0</td>\n",
       "      <td>1297</td>\n",
       "      <td>1</td>\n",
       "      <td>0</td>\n",
       "      <td>0</td>\n",
       "    </tr>\n",
       "    <tr>\n",
       "      <th>3</th>\n",
       "      <td>00012359_002.png</td>\n",
       "      <td>0</td>\n",
       "      <td>0</td>\n",
       "      <td>0</td>\n",
       "      <td>0</td>\n",
       "      <td>0</td>\n",
       "      <td>0</td>\n",
       "      <td>0</td>\n",
       "      <td>0</td>\n",
       "      <td>0</td>\n",
       "      <td>0</td>\n",
       "      <td>0</td>\n",
       "      <td>12359</td>\n",
       "      <td>0</td>\n",
       "      <td>0</td>\n",
       "      <td>0</td>\n",
       "    </tr>\n",
       "    <tr>\n",
       "      <th>4</th>\n",
       "      <td>00017951_001.png</td>\n",
       "      <td>0</td>\n",
       "      <td>0</td>\n",
       "      <td>0</td>\n",
       "      <td>0</td>\n",
       "      <td>0</td>\n",
       "      <td>0</td>\n",
       "      <td>0</td>\n",
       "      <td>0</td>\n",
       "      <td>1</td>\n",
       "      <td>0</td>\n",
       "      <td>0</td>\n",
       "      <td>17951</td>\n",
       "      <td>0</td>\n",
       "      <td>0</td>\n",
       "      <td>0</td>\n",
       "    </tr>\n",
       "  </tbody>\n",
       "</table>\n",
       "</div>"
      ],
      "text/plain": [
       "              Image  Atelectasis  Cardiomegaly  Consolidation  Edema  \\\n",
       "0  00008270_015.png            0             0              0      0   \n",
       "1  00029855_001.png            1             0              0      0   \n",
       "2  00001297_000.png            0             0              0      0   \n",
       "3  00012359_002.png            0             0              0      0   \n",
       "4  00017951_001.png            0             0              0      0   \n",
       "\n",
       "   Effusion  Emphysema  Fibrosis  Hernia  Infiltration  Mass  Nodule  \\\n",
       "0         0          0         0       0             0     0       0   \n",
       "1         1          0         0       0             1     0       0   \n",
       "2         0          0         0       0             0     0       0   \n",
       "3         0          0         0       0             0     0       0   \n",
       "4         0          0         0       0             1     0       0   \n",
       "\n",
       "   PatientId  Pleural_Thickening  Pneumonia  Pneumothorax  \n",
       "0       8270                   0          0             0  \n",
       "1      29855                   0          0             0  \n",
       "2       1297                   1          0             0  \n",
       "3      12359                   0          0             0  \n",
       "4      17951                   0          0             0  "
      ]
     },
     "execution_count": 9,
     "metadata": {},
     "output_type": "execute_result"
    }
   ],
   "source": [
    "valid_df.head()"
   ]
  },
  {
   "cell_type": "code",
   "execution_count": 10,
   "metadata": {},
   "outputs": [
    {
     "data": {
      "text/html": [
       "<div>\n",
       "<style scoped>\n",
       "    .dataframe tbody tr th:only-of-type {\n",
       "        vertical-align: middle;\n",
       "    }\n",
       "\n",
       "    .dataframe tbody tr th {\n",
       "        vertical-align: top;\n",
       "    }\n",
       "\n",
       "    .dataframe thead th {\n",
       "        text-align: right;\n",
       "    }\n",
       "</style>\n",
       "<table border=\"1\" class=\"dataframe\">\n",
       "  <thead>\n",
       "    <tr style=\"text-align: right;\">\n",
       "      <th></th>\n",
       "      <th>Image</th>\n",
       "      <th>Atelectasis</th>\n",
       "      <th>Cardiomegaly</th>\n",
       "      <th>Consolidation</th>\n",
       "      <th>Edema</th>\n",
       "      <th>Effusion</th>\n",
       "      <th>Emphysema</th>\n",
       "      <th>Fibrosis</th>\n",
       "      <th>Hernia</th>\n",
       "      <th>Infiltration</th>\n",
       "      <th>Mass</th>\n",
       "      <th>Nodule</th>\n",
       "      <th>Pleural_Thickening</th>\n",
       "      <th>Pneumonia</th>\n",
       "      <th>Pneumothorax</th>\n",
       "    </tr>\n",
       "  </thead>\n",
       "  <tbody>\n",
       "    <tr>\n",
       "      <th>0</th>\n",
       "      <td>00008270_015.png</td>\n",
       "      <td>0</td>\n",
       "      <td>0</td>\n",
       "      <td>0</td>\n",
       "      <td>0</td>\n",
       "      <td>0</td>\n",
       "      <td>0</td>\n",
       "      <td>0</td>\n",
       "      <td>0</td>\n",
       "      <td>0</td>\n",
       "      <td>0</td>\n",
       "      <td>0</td>\n",
       "      <td>0</td>\n",
       "      <td>0</td>\n",
       "      <td>0</td>\n",
       "    </tr>\n",
       "    <tr>\n",
       "      <th>1</th>\n",
       "      <td>00029855_001.png</td>\n",
       "      <td>1</td>\n",
       "      <td>0</td>\n",
       "      <td>0</td>\n",
       "      <td>0</td>\n",
       "      <td>1</td>\n",
       "      <td>0</td>\n",
       "      <td>0</td>\n",
       "      <td>0</td>\n",
       "      <td>1</td>\n",
       "      <td>0</td>\n",
       "      <td>0</td>\n",
       "      <td>0</td>\n",
       "      <td>0</td>\n",
       "      <td>0</td>\n",
       "    </tr>\n",
       "    <tr>\n",
       "      <th>2</th>\n",
       "      <td>00001297_000.png</td>\n",
       "      <td>0</td>\n",
       "      <td>0</td>\n",
       "      <td>0</td>\n",
       "      <td>0</td>\n",
       "      <td>0</td>\n",
       "      <td>0</td>\n",
       "      <td>0</td>\n",
       "      <td>0</td>\n",
       "      <td>0</td>\n",
       "      <td>0</td>\n",
       "      <td>0</td>\n",
       "      <td>1</td>\n",
       "      <td>0</td>\n",
       "      <td>0</td>\n",
       "    </tr>\n",
       "    <tr>\n",
       "      <th>3</th>\n",
       "      <td>00012359_002.png</td>\n",
       "      <td>0</td>\n",
       "      <td>0</td>\n",
       "      <td>0</td>\n",
       "      <td>0</td>\n",
       "      <td>0</td>\n",
       "      <td>0</td>\n",
       "      <td>0</td>\n",
       "      <td>0</td>\n",
       "      <td>0</td>\n",
       "      <td>0</td>\n",
       "      <td>0</td>\n",
       "      <td>0</td>\n",
       "      <td>0</td>\n",
       "      <td>0</td>\n",
       "    </tr>\n",
       "    <tr>\n",
       "      <th>4</th>\n",
       "      <td>00017951_001.png</td>\n",
       "      <td>0</td>\n",
       "      <td>0</td>\n",
       "      <td>0</td>\n",
       "      <td>0</td>\n",
       "      <td>0</td>\n",
       "      <td>0</td>\n",
       "      <td>0</td>\n",
       "      <td>0</td>\n",
       "      <td>1</td>\n",
       "      <td>0</td>\n",
       "      <td>0</td>\n",
       "      <td>0</td>\n",
       "      <td>0</td>\n",
       "      <td>0</td>\n",
       "    </tr>\n",
       "  </tbody>\n",
       "</table>\n",
       "</div>"
      ],
      "text/plain": [
       "              Image  Atelectasis  Cardiomegaly  Consolidation  Edema  \\\n",
       "0  00008270_015.png            0             0              0      0   \n",
       "1  00029855_001.png            1             0              0      0   \n",
       "2  00001297_000.png            0             0              0      0   \n",
       "3  00012359_002.png            0             0              0      0   \n",
       "4  00017951_001.png            0             0              0      0   \n",
       "\n",
       "   Effusion  Emphysema  Fibrosis  Hernia  Infiltration  Mass  Nodule  \\\n",
       "0         0          0         0       0             0     0       0   \n",
       "1         1          0         0       0             1     0       0   \n",
       "2         0          0         0       0             0     0       0   \n",
       "3         0          0         0       0             0     0       0   \n",
       "4         0          0         0       0             1     0       0   \n",
       "\n",
       "   Pleural_Thickening  Pneumonia  Pneumothorax  \n",
       "0                   0          0             0  \n",
       "1                   0          0             0  \n",
       "2                   1          0             0  \n",
       "3                   0          0             0  \n",
       "4                   0          0             0  "
      ]
     },
     "execution_count": 10,
     "metadata": {},
     "output_type": "execute_result"
    }
   ],
   "source": [
    "valid_df.drop('PatientId', axis=1, inplace=True)\n",
    "valid_df.head()"
   ]
  },
  {
   "cell_type": "code",
   "execution_count": 11,
   "metadata": {},
   "outputs": [
    {
     "data": {
      "text/plain": [
       "15"
      ]
     },
     "execution_count": 11,
     "metadata": {},
     "output_type": "execute_result"
    }
   ],
   "source": [
    "len(valid_df.columns)"
   ]
  },
  {
   "cell_type": "markdown",
   "metadata": {},
   "source": [
    "### Unique check"
   ]
  },
  {
   "cell_type": "code",
   "execution_count": 12,
   "metadata": {
    "execution": {
     "iopub.execute_input": "2025-03-02T10:26:16.072006Z",
     "iopub.status.busy": "2025-03-02T10:26:16.071673Z",
     "iopub.status.idle": "2025-03-02T10:26:16.081586Z",
     "shell.execute_reply": "2025-03-02T10:26:16.080481Z",
     "shell.execute_reply.started": "2025-03-02T10:26:16.071976Z"
    },
    "trusted": true
   },
   "outputs": [
    {
     "data": {
      "text/plain": [
       "(5606, 4230)"
      ]
     },
     "execution_count": 12,
     "metadata": {},
     "output_type": "execute_result"
    }
   ],
   "source": [
    "sample_df['Patient ID'].count(),sample_df['Patient ID'].nunique()"
   ]
  },
  {
   "cell_type": "markdown",
   "metadata": {},
   "source": [
    "## Data Clean up"
   ]
  },
  {
   "cell_type": "markdown",
   "metadata": {},
   "source": [
    "Droping duplicates"
   ]
  },
  {
   "cell_type": "code",
   "execution_count": 13,
   "metadata": {
    "execution": {
     "iopub.execute_input": "2025-03-02T10:26:16.084119Z",
     "iopub.status.busy": "2025-03-02T10:26:16.083741Z",
     "iopub.status.idle": "2025-03-02T10:26:16.100944Z",
     "shell.execute_reply": "2025-03-02T10:26:16.099944Z",
     "shell.execute_reply.started": "2025-03-02T10:26:16.084090Z"
    },
    "trusted": true
   },
   "outputs": [
    {
     "data": {
      "text/plain": [
       "4230"
      ]
     },
     "execution_count": 13,
     "metadata": {},
     "output_type": "execute_result"
    }
   ],
   "source": [
    "sample_df.drop_duplicates(subset=['Patient ID'], inplace=True)\n",
    "sample_df['Patient ID'].nunique()\n"
   ]
  },
  {
   "cell_type": "code",
   "execution_count": 14,
   "metadata": {},
   "outputs": [
    {
     "data": {
      "text/plain": [
       "Index(['Image Index', 'Finding Labels'], dtype='object')"
      ]
     },
     "execution_count": 14,
     "metadata": {},
     "output_type": "execute_result"
    }
   ],
   "source": [
    "sample_labels = ['Image Index', 'Finding Labels']\n",
    "sample_df = sample_df[sample_labels]\n",
    "sample_df.columns"
   ]
  },
  {
   "cell_type": "code",
   "execution_count": 15,
   "metadata": {},
   "outputs": [
    {
     "data": {
      "text/html": [
       "<div>\n",
       "<style scoped>\n",
       "    .dataframe tbody tr th:only-of-type {\n",
       "        vertical-align: middle;\n",
       "    }\n",
       "\n",
       "    .dataframe tbody tr th {\n",
       "        vertical-align: top;\n",
       "    }\n",
       "\n",
       "    .dataframe thead th {\n",
       "        text-align: right;\n",
       "    }\n",
       "</style>\n",
       "<table border=\"1\" class=\"dataframe\">\n",
       "  <thead>\n",
       "    <tr style=\"text-align: right;\">\n",
       "      <th></th>\n",
       "      <th>Atelectasis</th>\n",
       "      <th>Cardiomegaly</th>\n",
       "      <th>Consolidation</th>\n",
       "      <th>Edema</th>\n",
       "      <th>Effusion</th>\n",
       "      <th>Emphysema</th>\n",
       "      <th>Fibrosis</th>\n",
       "      <th>Hernia</th>\n",
       "      <th>Infiltration</th>\n",
       "      <th>Mass</th>\n",
       "      <th>No Finding</th>\n",
       "      <th>Nodule</th>\n",
       "      <th>Pleural_Thickening</th>\n",
       "      <th>Pneumonia</th>\n",
       "      <th>Pneumothorax</th>\n",
       "    </tr>\n",
       "  </thead>\n",
       "  <tbody>\n",
       "    <tr>\n",
       "      <th>0</th>\n",
       "      <td>0.0</td>\n",
       "      <td>0.0</td>\n",
       "      <td>0.0</td>\n",
       "      <td>0.0</td>\n",
       "      <td>0.0</td>\n",
       "      <td>1.0</td>\n",
       "      <td>0.0</td>\n",
       "      <td>0.0</td>\n",
       "      <td>1.0</td>\n",
       "      <td>0.0</td>\n",
       "      <td>0.0</td>\n",
       "      <td>0.0</td>\n",
       "      <td>1.0</td>\n",
       "      <td>0.0</td>\n",
       "      <td>1.0</td>\n",
       "    </tr>\n",
       "    <tr>\n",
       "      <th>2</th>\n",
       "      <td>0.0</td>\n",
       "      <td>0.0</td>\n",
       "      <td>0.0</td>\n",
       "      <td>0.0</td>\n",
       "      <td>0.0</td>\n",
       "      <td>0.0</td>\n",
       "      <td>0.0</td>\n",
       "      <td>0.0</td>\n",
       "      <td>0.0</td>\n",
       "      <td>0.0</td>\n",
       "      <td>1.0</td>\n",
       "      <td>0.0</td>\n",
       "      <td>0.0</td>\n",
       "      <td>0.0</td>\n",
       "      <td>0.0</td>\n",
       "    </tr>\n",
       "    <tr>\n",
       "      <th>3</th>\n",
       "      <td>1.0</td>\n",
       "      <td>0.0</td>\n",
       "      <td>0.0</td>\n",
       "      <td>0.0</td>\n",
       "      <td>0.0</td>\n",
       "      <td>0.0</td>\n",
       "      <td>0.0</td>\n",
       "      <td>0.0</td>\n",
       "      <td>0.0</td>\n",
       "      <td>0.0</td>\n",
       "      <td>0.0</td>\n",
       "      <td>0.0</td>\n",
       "      <td>0.0</td>\n",
       "      <td>0.0</td>\n",
       "      <td>0.0</td>\n",
       "    </tr>\n",
       "    <tr>\n",
       "      <th>4</th>\n",
       "      <td>0.0</td>\n",
       "      <td>1.0</td>\n",
       "      <td>0.0</td>\n",
       "      <td>1.0</td>\n",
       "      <td>1.0</td>\n",
       "      <td>0.0</td>\n",
       "      <td>0.0</td>\n",
       "      <td>0.0</td>\n",
       "      <td>0.0</td>\n",
       "      <td>0.0</td>\n",
       "      <td>0.0</td>\n",
       "      <td>0.0</td>\n",
       "      <td>0.0</td>\n",
       "      <td>0.0</td>\n",
       "      <td>0.0</td>\n",
       "    </tr>\n",
       "    <tr>\n",
       "      <th>5</th>\n",
       "      <td>0.0</td>\n",
       "      <td>0.0</td>\n",
       "      <td>1.0</td>\n",
       "      <td>0.0</td>\n",
       "      <td>0.0</td>\n",
       "      <td>0.0</td>\n",
       "      <td>0.0</td>\n",
       "      <td>0.0</td>\n",
       "      <td>0.0</td>\n",
       "      <td>1.0</td>\n",
       "      <td>0.0</td>\n",
       "      <td>0.0</td>\n",
       "      <td>0.0</td>\n",
       "      <td>0.0</td>\n",
       "      <td>0.0</td>\n",
       "    </tr>\n",
       "  </tbody>\n",
       "</table>\n",
       "</div>"
      ],
      "text/plain": [
       "   Atelectasis  Cardiomegaly  Consolidation  Edema  Effusion  Emphysema  \\\n",
       "0          0.0           0.0            0.0    0.0       0.0        1.0   \n",
       "2          0.0           0.0            0.0    0.0       0.0        0.0   \n",
       "3          1.0           0.0            0.0    0.0       0.0        0.0   \n",
       "4          0.0           1.0            0.0    1.0       1.0        0.0   \n",
       "5          0.0           0.0            1.0    0.0       0.0        0.0   \n",
       "\n",
       "   Fibrosis  Hernia  Infiltration  Mass  No Finding  Nodule  \\\n",
       "0       0.0     0.0           1.0   0.0         0.0     0.0   \n",
       "2       0.0     0.0           0.0   0.0         1.0     0.0   \n",
       "3       0.0     0.0           0.0   0.0         0.0     0.0   \n",
       "4       0.0     0.0           0.0   0.0         0.0     0.0   \n",
       "5       0.0     0.0           0.0   1.0         0.0     0.0   \n",
       "\n",
       "   Pleural_Thickening  Pneumonia  Pneumothorax  \n",
       "0                 1.0        0.0           1.0  \n",
       "2                 0.0        0.0           0.0  \n",
       "3                 0.0        0.0           0.0  \n",
       "4                 0.0        0.0           0.0  \n",
       "5                 0.0        0.0           0.0  "
      ]
     },
     "execution_count": 15,
     "metadata": {},
     "output_type": "execute_result"
    }
   ],
   "source": [
    "sample_cat_df = sample_df['Finding Labels'].str.get_dummies(sep='|').astype('float32')\n",
    "sample_cat_df.head()"
   ]
  },
  {
   "cell_type": "code",
   "execution_count": 16,
   "metadata": {
    "execution": {
     "iopub.execute_input": "2025-03-02T10:26:16.027432Z",
     "iopub.status.busy": "2025-03-02T10:26:16.027004Z",
     "iopub.status.idle": "2025-03-02T10:26:16.068794Z",
     "shell.execute_reply": "2025-03-02T10:26:16.067670Z",
     "shell.execute_reply.started": "2025-03-02T10:26:16.027391Z"
    },
    "trusted": true
   },
   "outputs": [
    {
     "data": {
      "text/html": [
       "<div>\n",
       "<style scoped>\n",
       "    .dataframe tbody tr th:only-of-type {\n",
       "        vertical-align: middle;\n",
       "    }\n",
       "\n",
       "    .dataframe tbody tr th {\n",
       "        vertical-align: top;\n",
       "    }\n",
       "\n",
       "    .dataframe thead th {\n",
       "        text-align: right;\n",
       "    }\n",
       "</style>\n",
       "<table border=\"1\" class=\"dataframe\">\n",
       "  <thead>\n",
       "    <tr style=\"text-align: right;\">\n",
       "      <th></th>\n",
       "      <th>Image Index</th>\n",
       "      <th>Finding Labels</th>\n",
       "    </tr>\n",
       "  </thead>\n",
       "  <tbody>\n",
       "    <tr>\n",
       "      <th>0</th>\n",
       "      <td>00000013_005.png</td>\n",
       "      <td>Emphysema|Infiltration|Pleural_Thickening|Pneu...</td>\n",
       "    </tr>\n",
       "    <tr>\n",
       "      <th>2</th>\n",
       "      <td>00000017_001.png</td>\n",
       "      <td>No Finding</td>\n",
       "    </tr>\n",
       "    <tr>\n",
       "      <th>3</th>\n",
       "      <td>00000030_001.png</td>\n",
       "      <td>Atelectasis</td>\n",
       "    </tr>\n",
       "    <tr>\n",
       "      <th>4</th>\n",
       "      <td>00000032_001.png</td>\n",
       "      <td>Cardiomegaly|Edema|Effusion</td>\n",
       "    </tr>\n",
       "    <tr>\n",
       "      <th>5</th>\n",
       "      <td>00000040_003.png</td>\n",
       "      <td>Consolidation|Mass</td>\n",
       "    </tr>\n",
       "    <tr>\n",
       "      <th>6</th>\n",
       "      <td>00000042_002.png</td>\n",
       "      <td>No Finding</td>\n",
       "    </tr>\n",
       "    <tr>\n",
       "      <th>7</th>\n",
       "      <td>00000057_001.png</td>\n",
       "      <td>No Finding</td>\n",
       "    </tr>\n",
       "    <tr>\n",
       "      <th>8</th>\n",
       "      <td>00000061_002.png</td>\n",
       "      <td>Effusion</td>\n",
       "    </tr>\n",
       "    <tr>\n",
       "      <th>11</th>\n",
       "      <td>00000079_000.png</td>\n",
       "      <td>Mass</td>\n",
       "    </tr>\n",
       "    <tr>\n",
       "      <th>12</th>\n",
       "      <td>00000080_005.png</td>\n",
       "      <td>No Finding</td>\n",
       "    </tr>\n",
       "  </tbody>\n",
       "</table>\n",
       "</div>"
      ],
      "text/plain": [
       "         Image Index                                     Finding Labels\n",
       "0   00000013_005.png  Emphysema|Infiltration|Pleural_Thickening|Pneu...\n",
       "2   00000017_001.png                                         No Finding\n",
       "3   00000030_001.png                                        Atelectasis\n",
       "4   00000032_001.png                        Cardiomegaly|Edema|Effusion\n",
       "5   00000040_003.png                                 Consolidation|Mass\n",
       "6   00000042_002.png                                         No Finding\n",
       "7   00000057_001.png                                         No Finding\n",
       "8   00000061_002.png                                           Effusion\n",
       "11  00000079_000.png                                               Mass\n",
       "12  00000080_005.png                                         No Finding"
      ]
     },
     "execution_count": 16,
     "metadata": {},
     "output_type": "execute_result"
    }
   ],
   "source": [
    "sample_df.head(10)"
   ]
  },
  {
   "cell_type": "markdown",
   "metadata": {},
   "source": [
    "### Prepare new csv file with useful information and format"
   ]
  },
  {
   "cell_type": "code",
   "execution_count": 17,
   "metadata": {
    "execution": {
     "iopub.execute_input": "2025-03-02T10:26:16.115278Z",
     "iopub.status.busy": "2025-03-02T10:26:16.114971Z",
     "iopub.status.idle": "2025-03-02T10:26:16.137019Z",
     "shell.execute_reply": "2025-03-02T10:26:16.135960Z",
     "shell.execute_reply.started": "2025-03-02T10:26:16.115253Z"
    },
    "trusted": true
   },
   "outputs": [
    {
     "data": {
      "text/html": [
       "<div>\n",
       "<style scoped>\n",
       "    .dataframe tbody tr th:only-of-type {\n",
       "        vertical-align: middle;\n",
       "    }\n",
       "\n",
       "    .dataframe tbody tr th {\n",
       "        vertical-align: top;\n",
       "    }\n",
       "\n",
       "    .dataframe thead th {\n",
       "        text-align: right;\n",
       "    }\n",
       "</style>\n",
       "<table border=\"1\" class=\"dataframe\">\n",
       "  <thead>\n",
       "    <tr style=\"text-align: right;\">\n",
       "      <th></th>\n",
       "      <th>Image Index</th>\n",
       "      <th>Finding Labels</th>\n",
       "    </tr>\n",
       "  </thead>\n",
       "  <tbody>\n",
       "    <tr>\n",
       "      <th>0</th>\n",
       "      <td>00000013_005.png</td>\n",
       "      <td>Emphysema|Infiltration|Pleural_Thickening|Pneu...</td>\n",
       "    </tr>\n",
       "    <tr>\n",
       "      <th>2</th>\n",
       "      <td>00000017_001.png</td>\n",
       "      <td>No Finding</td>\n",
       "    </tr>\n",
       "    <tr>\n",
       "      <th>3</th>\n",
       "      <td>00000030_001.png</td>\n",
       "      <td>Atelectasis</td>\n",
       "    </tr>\n",
       "    <tr>\n",
       "      <th>4</th>\n",
       "      <td>00000032_001.png</td>\n",
       "      <td>Cardiomegaly|Edema|Effusion</td>\n",
       "    </tr>\n",
       "    <tr>\n",
       "      <th>5</th>\n",
       "      <td>00000040_003.png</td>\n",
       "      <td>Consolidation|Mass</td>\n",
       "    </tr>\n",
       "  </tbody>\n",
       "</table>\n",
       "</div>"
      ],
      "text/plain": [
       "        Image Index                                     Finding Labels\n",
       "0  00000013_005.png  Emphysema|Infiltration|Pleural_Thickening|Pneu...\n",
       "2  00000017_001.png                                         No Finding\n",
       "3  00000030_001.png                                        Atelectasis\n",
       "4  00000032_001.png                        Cardiomegaly|Edema|Effusion\n",
       "5  00000040_003.png                                 Consolidation|Mass"
      ]
     },
     "execution_count": 17,
     "metadata": {},
     "output_type": "execute_result"
    }
   ],
   "source": [
    "useful_data_df= sample_df[['Image Index', 'Finding Labels']]\n",
    "useful_data_df.head()"
   ]
  },
  {
   "cell_type": "code",
   "execution_count": 18,
   "metadata": {
    "execution": {
     "iopub.execute_input": "2025-03-02T10:26:16.138586Z",
     "iopub.status.busy": "2025-03-02T10:26:16.138160Z",
     "iopub.status.idle": "2025-03-02T10:26:16.156456Z",
     "shell.execute_reply": "2025-03-02T10:26:16.155469Z",
     "shell.execute_reply.started": "2025-03-02T10:26:16.138521Z"
    },
    "trusted": true
   },
   "outputs": [
    {
     "data": {
      "text/plain": [
       "4230"
      ]
     },
     "execution_count": 18,
     "metadata": {},
     "output_type": "execute_result"
    }
   ],
   "source": [
    "len(useful_data_df)"
   ]
  },
  {
   "cell_type": "code",
   "execution_count": 19,
   "metadata": {
    "execution": {
     "iopub.execute_input": "2025-03-02T10:26:16.157721Z",
     "iopub.status.busy": "2025-03-02T10:26:16.157404Z",
     "iopub.status.idle": "2025-03-02T10:26:16.172399Z",
     "shell.execute_reply": "2025-03-02T10:26:16.171369Z",
     "shell.execute_reply.started": "2025-03-02T10:26:16.157686Z"
    },
    "trusted": true
   },
   "outputs": [],
   "source": [
    "from collections import Counter\n",
    "def get_most_common_label(labels):\n",
    "    return Counter(labels.split('|')).most_common(1)[0][0]"
   ]
  },
  {
   "cell_type": "code",
   "execution_count": 20,
   "metadata": {
    "execution": {
     "iopub.execute_input": "2025-03-02T10:26:16.211619Z",
     "iopub.status.busy": "2025-03-02T10:26:16.211254Z",
     "iopub.status.idle": "2025-03-02T10:26:16.230012Z",
     "shell.execute_reply": "2025-03-02T10:26:16.228974Z",
     "shell.execute_reply.started": "2025-03-02T10:26:16.211584Z"
    },
    "trusted": true
   },
   "outputs": [],
   "source": [
    "useful_data_df = useful_data_df.dropna()"
   ]
  },
  {
   "cell_type": "code",
   "execution_count": 21,
   "metadata": {
    "execution": {
     "iopub.execute_input": "2025-03-02T10:26:16.231428Z",
     "iopub.status.busy": "2025-03-02T10:26:16.231054Z",
     "iopub.status.idle": "2025-03-02T10:26:16.247053Z",
     "shell.execute_reply": "2025-03-02T10:26:16.245926Z",
     "shell.execute_reply.started": "2025-03-02T10:26:16.231397Z"
    },
    "trusted": true
   },
   "outputs": [],
   "source": [
    "images_df = useful_data_df['Image Index'] "
   ]
  },
  {
   "cell_type": "code",
   "execution_count": 22,
   "metadata": {
    "execution": {
     "iopub.execute_input": "2025-03-02T10:26:16.270249Z",
     "iopub.status.busy": "2025-03-02T10:26:16.269889Z",
     "iopub.status.idle": "2025-03-02T10:26:16.288399Z",
     "shell.execute_reply": "2025-03-02T10:26:16.287342Z",
     "shell.execute_reply.started": "2025-03-02T10:26:16.270221Z"
    },
    "trusted": true
   },
   "outputs": [
    {
     "data": {
      "text/plain": [
       "0       00000013_005.png\n",
       "2       00000017_001.png\n",
       "3       00000030_001.png\n",
       "4       00000032_001.png\n",
       "5       00000040_003.png\n",
       "              ...       \n",
       "5601    00030712_000.png\n",
       "5602    00030786_005.png\n",
       "5603    00030789_000.png\n",
       "5604    00030792_000.png\n",
       "5605    00030797_000.png\n",
       "Name: Image Index, Length: 4230, dtype: object"
      ]
     },
     "execution_count": 22,
     "metadata": {},
     "output_type": "execute_result"
    }
   ],
   "source": [
    "images_df"
   ]
  },
  {
   "cell_type": "code",
   "execution_count": 23,
   "metadata": {
    "execution": {
     "iopub.execute_input": "2025-03-02T10:26:16.289767Z",
     "iopub.status.busy": "2025-03-02T10:26:16.289406Z",
     "iopub.status.idle": "2025-03-02T10:26:16.312092Z",
     "shell.execute_reply": "2025-03-02T10:26:16.311104Z",
     "shell.execute_reply.started": "2025-03-02T10:26:16.289739Z"
    },
    "trusted": true
   },
   "outputs": [],
   "source": [
    "# Perform stratified split\n",
    "# X_train, X_test, y_train, y_test = train_test_split(images_df, useful_data_df.primary_label, test_size=0.1, random_state=42, stratify=useful_data_df.primary_label)"
   ]
  },
  {
   "cell_type": "markdown",
   "metadata": {},
   "source": [
    "### One hot encoding"
   ]
  },
  {
   "cell_type": "code",
   "execution_count": 24,
   "metadata": {},
   "outputs": [],
   "source": [
    "# drop_colums = ['Atelectasis', 'Cardiomegaly', 'Consolidation', 'Edema', 'Effusion',\n",
    "#        'Emphysema', 'Fibrosis', 'Hernia', 'Infiltration', 'Mass', 'No Finding',\n",
    "#        'Nodule', 'Pleural_Thickening', 'Pneumonia', 'Pneumothorax']\n",
    "# 'Atelectasis', 'Cardiomegaly', 'Consolidation', 'Edema', 'Effusion',\n",
    "\n",
    "labels =['Atelectasis', 'Cardiomegaly', 'Consolidation', 'Edema', 'Effusion',\n",
    "       'Emphysema', 'Fibrosis', 'Hernia', 'Infiltration', 'Mass',\n",
    "       'Nodule', 'Pleural_Thickening', 'Pneumonia', 'Pneumothorax']"
   ]
  },
  {
   "cell_type": "code",
   "execution_count": 25,
   "metadata": {
    "execution": {
     "iopub.execute_input": "2025-03-02T10:26:16.313372Z",
     "iopub.status.busy": "2025-03-02T10:26:16.313015Z",
     "iopub.status.idle": "2025-03-02T10:26:16.348492Z",
     "shell.execute_reply": "2025-03-02T10:26:16.347636Z",
     "shell.execute_reply.started": "2025-03-02T10:26:16.313343Z"
    },
    "trusted": true
   },
   "outputs": [
    {
     "data": {
      "text/plain": [
       "Index(['Atelectasis', 'Cardiomegaly', 'Consolidation', 'Edema', 'Effusion',\n",
       "       'Emphysema', 'Fibrosis', 'Hernia', 'Infiltration', 'Mass', 'No Finding',\n",
       "       'Nodule', 'Pleural_Thickening', 'Pneumonia', 'Pneumothorax'],\n",
       "      dtype='object')"
      ]
     },
     "execution_count": 25,
     "metadata": {},
     "output_type": "execute_result"
    }
   ],
   "source": [
    "train_cat_labels_df = useful_data_df['Finding Labels'].str.get_dummies(sep='|').astype('float32')\n",
    "train_cat_labels_df.columns"
   ]
  },
  {
   "cell_type": "code",
   "execution_count": 26,
   "metadata": {},
   "outputs": [
    {
     "data": {
      "text/plain": [
       "Index(['Atelectasis', 'Cardiomegaly', 'Consolidation', 'Edema', 'Effusion',\n",
       "       'Emphysema', 'Fibrosis', 'Hernia', 'Infiltration', 'Mass', 'Nodule',\n",
       "       'Pleural_Thickening', 'Pneumonia', 'Pneumothorax'],\n",
       "      dtype='object')"
      ]
     },
     "execution_count": 26,
     "metadata": {},
     "output_type": "execute_result"
    }
   ],
   "source": [
    "# train_cat_labels_df.drop(['No Finding'], inplace=True, axis=1)\n",
    "# labels = train_cat_labels_df.columns\n",
    "train_cat_labels_df = train_cat_labels_df[labels]\n",
    "train_cat_labels_df.columns"
   ]
  },
  {
   "cell_type": "code",
   "execution_count": 27,
   "metadata": {},
   "outputs": [
    {
     "data": {
      "text/plain": [
       "Index(['Atelectasis', 'Cardiomegaly', 'Consolidation', 'Edema', 'Effusion',\n",
       "       'Emphysema', 'Fibrosis', 'Hernia', 'Infiltration', 'Mass', 'Nodule',\n",
       "       'Pleural_Thickening', 'Pneumonia', 'Pneumothorax'],\n",
       "      dtype='object')"
      ]
     },
     "execution_count": 27,
     "metadata": {},
     "output_type": "execute_result"
    }
   ],
   "source": [
    "valid_images = valid_df.Image\n",
    "valid_labels_df = valid_df[labels]\n",
    "valid_labels_df.columns"
   ]
  },
  {
   "cell_type": "markdown",
   "metadata": {},
   "source": [
    "### Load Training Dataset from Dataframe"
   ]
  },
  {
   "cell_type": "code",
   "execution_count": 28,
   "metadata": {
    "execution": {
     "iopub.execute_input": "2025-03-02T10:26:16.421428Z",
     "iopub.status.busy": "2025-03-02T10:26:16.421129Z",
     "iopub.status.idle": "2025-03-02T10:26:16.440520Z",
     "shell.execute_reply": "2025-03-02T10:26:16.439246Z",
     "shell.execute_reply.started": "2025-03-02T10:26:16.421404Z"
    },
    "trusted": true
   },
   "outputs": [],
   "source": [
    "def load_image(image_name, label):\n",
    "    full_path = tf.strings.join([f'{IMAGE_DIR}/', image_name])\n",
    "    image = tf.io.read_file(full_path)\n",
    "    image = tf.image.decode_jpeg(image, channels=3)\n",
    "    image = tf.image.resize(image, [IMAGE_SIZE, IMAGE_SIZE])  # Resize to the desired size\n",
    "    label = tf.cast(label, tf.float32)\n",
    "    return image, label\n",
    "\n",
    "def load_image_valid(image_name, label):\n",
    "    full_path = tf.strings.join(['datasets/images-small/', image_name])\n",
    "    image = tf.io.read_file(full_path)\n",
    "    image = tf.image.decode_jpeg(image, channels=3)\n",
    "    image = tf.image.resize(image, [IMAGE_SIZE, IMAGE_SIZE])  # Resize to the desired size\n",
    "    label = tf.cast(label, tf.float32)\n",
    "    return image, label\n"
   ]
  },
  {
   "cell_type": "code",
   "execution_count": 29,
   "metadata": {
    "execution": {
     "iopub.execute_input": "2025-03-02T10:26:16.442118Z",
     "iopub.status.busy": "2025-03-02T10:26:16.441753Z",
     "iopub.status.idle": "2025-03-02T10:26:16.463368Z",
     "shell.execute_reply": "2025-03-02T10:26:16.462383Z",
     "shell.execute_reply.started": "2025-03-02T10:26:16.442086Z"
    },
    "trusted": true
   },
   "outputs": [
    {
     "data": {
      "text/plain": [
       "(4230, 4230)"
      ]
     },
     "execution_count": 29,
     "metadata": {},
     "output_type": "execute_result"
    }
   ],
   "source": [
    "len(images_df), len(train_cat_labels_df.values)"
   ]
  },
  {
   "cell_type": "code",
   "execution_count": 30,
   "metadata": {
    "execution": {
     "iopub.execute_input": "2025-03-02T10:26:16.485002Z",
     "iopub.status.busy": "2025-03-02T10:26:16.484630Z",
     "iopub.status.idle": "2025-03-02T10:26:16.617935Z",
     "shell.execute_reply": "2025-03-02T10:26:16.616940Z",
     "shell.execute_reply.started": "2025-03-02T10:26:16.484966Z"
    },
    "trusted": true
   },
   "outputs": [
    {
     "name": "stderr",
     "output_type": "stream",
     "text": [
      "I0000 00:00:1740920261.362817  133566 gpu_device.cc:2022] Created device /job:localhost/replica:0/task:0/device:GPU:0 with 7356 MB memory:  -> device: 0, name: NVIDIA GeForce RTX 3080, pci bus id: 0000:0a:00.0, compute capability: 8.6\n"
     ]
    }
   ],
   "source": [
    "AUTOTUNE = tf.data.AUTOTUNE\n",
    "\n",
    "train_ds = tf.data.Dataset.from_tensor_slices((images_df,  train_cat_labels_df.values))\n",
    "train_ds = train_ds.map(load_image, num_parallel_calls=AUTOTUNE)"
   ]
  },
  {
   "cell_type": "code",
   "execution_count": 31,
   "metadata": {
    "execution": {
     "iopub.execute_input": "2025-03-02T10:26:16.619484Z",
     "iopub.status.busy": "2025-03-02T10:26:16.619088Z",
     "iopub.status.idle": "2025-03-02T10:26:16.646012Z",
     "shell.execute_reply": "2025-03-02T10:26:16.645067Z",
     "shell.execute_reply.started": "2025-03-02T10:26:16.619445Z"
    },
    "trusted": true
   },
   "outputs": [],
   "source": [
    "valid_ds = tf.data.Dataset.from_tensor_slices((valid_images.values,  valid_labels_df.values))\n",
    "valid_ds = valid_ds.map(load_image_valid, num_parallel_calls=AUTOTUNE)"
   ]
  },
  {
   "cell_type": "markdown",
   "metadata": {},
   "source": [
    "## Image Processing"
   ]
  },
  {
   "cell_type": "markdown",
   "metadata": {},
   "source": [
    "#### Normalization"
   ]
  },
  {
   "cell_type": "code",
   "execution_count": 32,
   "metadata": {
    "execution": {
     "iopub.execute_input": "2025-03-02T10:26:16.647307Z",
     "iopub.status.busy": "2025-03-02T10:26:16.647032Z",
     "iopub.status.idle": "2025-03-02T10:26:28.384636Z",
     "shell.execute_reply": "2025-03-02T10:26:28.383307Z",
     "shell.execute_reply.started": "2025-03-02T10:26:16.647286Z"
    },
    "trusted": true
   },
   "outputs": [
    {
     "ename": "NameError",
     "evalue": "name 'train_df' is not defined",
     "output_type": "error",
     "traceback": [
      "\u001b[0;31m---------------------------------------------------------------------------\u001b[0m",
      "\u001b[0;31mNameError\u001b[0m                                 Traceback (most recent call last)",
      "Cell \u001b[0;32mIn[32], line 6\u001b[0m\n\u001b[1;32m      3\u001b[0m \u001b[38;5;66;03m# Compute the mean and variance using the training data\u001b[39;00m\n\u001b[1;32m      4\u001b[0m \u001b[38;5;66;03m# We need to convert the dataset to numpy to compute statistics\u001b[39;00m\n\u001b[1;32m      5\u001b[0m images_for_stats \u001b[38;5;241m=\u001b[39m []\n\u001b[0;32m----> 6\u001b[0m \u001b[38;5;28;01mfor\u001b[39;00m images, _ \u001b[38;5;129;01min\u001b[39;00m train_ds\u001b[38;5;241m.\u001b[39mtake(\u001b[38;5;28mint\u001b[39m(\u001b[38;5;28mlen\u001b[39m(\u001b[43mtrain_df\u001b[49m)\u001b[38;5;241m*\u001b[39m\u001b[38;5;241m0.25\u001b[39m)): \n\u001b[1;32m      7\u001b[0m     images_for_stats\u001b[38;5;241m.\u001b[39mappend(images)\n\u001b[1;32m      8\u001b[0m images_for_stats \u001b[38;5;241m=\u001b[39m tf\u001b[38;5;241m.\u001b[39mconcat(images_for_stats, axis\u001b[38;5;241m=\u001b[39m\u001b[38;5;241m0\u001b[39m)\n",
      "\u001b[0;31mNameError\u001b[0m: name 'train_df' is not defined"
     ]
    }
   ],
   "source": [
    "# Create normalization layer\n",
    "normalization_layer = tf.keras.layers.Normalization()\n",
    "# Compute the mean and variance using the training data\n",
    "# We need to convert the dataset to numpy to compute statistics\n",
    "images_for_stats = []\n",
    "for images, _ in train_ds.take(int(len(train_df)*0.25)): \n",
    "    images_for_stats.append(images)\n",
    "images_for_stats = tf.concat(images_for_stats, axis=0)\n",
    "normalization_layer.adapt(images_for_stats)"
   ]
  },
  {
   "cell_type": "markdown",
   "metadata": {},
   "source": [
    "#### Augmentation "
   ]
  },
  {
   "cell_type": "code",
   "execution_count": null,
   "metadata": {
    "execution": {
     "iopub.execute_input": "2025-03-02T10:26:28.385899Z",
     "iopub.status.busy": "2025-03-02T10:26:28.385612Z",
     "iopub.status.idle": "2025-03-02T10:26:28.406274Z",
     "shell.execute_reply": "2025-03-02T10:26:28.405255Z",
     "shell.execute_reply.started": "2025-03-02T10:26:28.385874Z"
    },
    "trusted": true
   },
   "outputs": [],
   "source": [
    "data_augmentation = tf.keras.Sequential([\n",
    "    tf.keras.layers.RandomRotation(0.10),                    # Small rotation\n",
    "    tf.keras.layers.RandomTranslation(0.05, 0.05),           # Translation\n",
    "    tf.keras.layers.RandomContrast(0.1),                     # Contrast adjustment\n",
    "    tf.keras.layers.RandomBrightness(0.1),                   # Brightness adjustment\n",
    "    tf.keras.layers.RandomZoom(0.1, 0.1)])                   # Random zoom"
   ]
  },
  {
   "cell_type": "code",
   "execution_count": null,
   "metadata": {
    "execution": {
     "iopub.execute_input": "2025-03-02T10:26:28.407743Z",
     "iopub.status.busy": "2025-03-02T10:26:28.407355Z",
     "iopub.status.idle": "2025-03-02T10:26:28.412685Z",
     "shell.execute_reply": "2025-03-02T10:26:28.411448Z",
     "shell.execute_reply.started": "2025-03-02T10:26:28.407705Z"
    },
    "trusted": true
   },
   "outputs": [],
   "source": [
    "def preprocess_image(image, label):\n",
    "    image = tf.cast(image, tf.float32) #/ 255.0\n",
    "    # image = tf.keras.applications.densenet.preprocess_input(image)\n",
    "    image = normalization_layer(image)\n",
    "    return image, label"
   ]
  },
  {
   "cell_type": "code",
   "execution_count": null,
   "metadata": {
    "execution": {
     "iopub.execute_input": "2025-03-02T10:26:28.414089Z",
     "iopub.status.busy": "2025-03-02T10:26:28.413782Z",
     "iopub.status.idle": "2025-03-02T10:26:28.767983Z",
     "shell.execute_reply": "2025-03-02T10:26:28.766796Z",
     "shell.execute_reply.started": "2025-03-02T10:26:28.414063Z"
    },
    "trusted": true
   },
   "outputs": [],
   "source": [
    "train_ds = train_ds.map(lambda image, label: (data_augmentation(image), label) , num_parallel_calls=AUTOTUNE)\n",
    "train_ds = train_ds.map(preprocess_image,num_parallel_calls=AUTOTUNE)\n",
    "train_ds = train_ds.batch(BATCH_SIZE).shuffle(len(images_df))\n",
    "train_ds = train_ds.prefetch(buffer_size=AUTOTUNE)"
   ]
  },
  {
   "cell_type": "code",
   "execution_count": null,
   "metadata": {
    "execution": {
     "iopub.execute_input": "2025-03-02T10:26:28.769369Z",
     "iopub.status.busy": "2025-03-02T10:26:28.769002Z"
    },
    "trusted": true
   },
   "outputs": [],
   "source": [
    "for batch in train_ds.take(1):\n",
    "    print(batch[0].shape)\n",
    "    image, label = batch\n",
    "    print(image[0], label[0])"
   ]
  },
  {
   "cell_type": "code",
   "execution_count": null,
   "metadata": {
    "trusted": true
   },
   "outputs": [],
   "source": [
    "valid_ds = valid_ds.map(preprocess_image,num_parallel_calls=tf.data.AUTOTUNE)\n",
    "valid_ds = valid_ds.batch(BATCH_SIZE)\n",
    "valid_ds = valid_ds.prefetch(buffer_size=AUTOTUNE)"
   ]
  },
  {
   "cell_type": "markdown",
   "metadata": {},
   "source": [
    "### Class Imbalance Handling"
   ]
  },
  {
   "cell_type": "code",
   "execution_count": null,
   "metadata": {
    "trusted": true
   },
   "outputs": [],
   "source": [
    "plt.xticks(rotation=90)\n",
    "plt.bar(x=labels, height=np.mean(train_cat_labels_df.values, axis=0))\n",
    "plt.title(\"Frequency of Each Class\")\n",
    "plt.grid()\n",
    "plt.show()"
   ]
  },
  {
   "cell_type": "markdown",
   "metadata": {},
   "source": [
    "#### Compute Class Frequencies"
   ]
  },
  {
   "cell_type": "code",
   "execution_count": null,
   "metadata": {},
   "outputs": [],
   "source": [
    "N = train_cat_labels_df.shape[0]\n",
    "positive_frequencies = (train_cat_labels_df==1).sum()/N\n",
    "negative_frequencies = (train_cat_labels_df==0).sum()/N\n",
    "positive_frequencies, negative_frequencies"
   ]
  },
  {
   "cell_type": "code",
   "execution_count": null,
   "metadata": {},
   "outputs": [],
   "source": [
    "data_df = pd.DataFrame(list(positive_frequencies.items()), columns=['class', 'positives'])\n",
    "data_df['negatives'] = negative_frequencies.values\n",
    "data_df"
   ]
  },
  {
   "cell_type": "code",
   "execution_count": null,
   "metadata": {},
   "outputs": [],
   "source": [
    "data_df.plot.bar(x='class')"
   ]
  },
  {
   "cell_type": "markdown",
   "metadata": {},
   "source": [
    "As we see in the above plot, the contributions of positive cases is significantly lower than that of the negative ones. However, we want the contributions to be equal. One way of doing this is by multiplying each example from each class by a class-specific weight factor, $w_{pos}$ and $w_{neg}$, so that the overall contribution of each class is the same. \n",
    "\n",
    "To have this, we want \n",
    "\n",
    "$$w_{pos} \\times freq_{p} = w_{neg} \\times freq_{n},$$\n",
    "\n",
    "which we can do simply by taking \n",
    "\n",
    "$$w_{pos} = freq_{neg}$$\n",
    "$$w_{neg} = freq_{pos}$$\n",
    "\n",
    "This way, we will be balancing the contribution of positive and negative labels."
   ]
  },
  {
   "cell_type": "code",
   "execution_count": null,
   "metadata": {},
   "outputs": [],
   "source": [
    "pos_weights = negative_frequencies.values\n",
    "neg_weights = positive_frequencies.values\n",
    "# positive_frequencies.values\n",
    "\n",
    "# Try adjusting the weight balance slightly\n",
    "# pos_weights = np.sqrt(negative_frequencies.values) * 0.8  # Reduce positive weight slightly\n",
    "# neg_weights = np.sqrt(positive_frequencies.values) * 1.2  # Increase negative weight slightly"
   ]
  },
  {
   "cell_type": "code",
   "execution_count": null,
   "metadata": {},
   "outputs": [],
   "source": [
    "pos_contirbution = positive_frequencies * pos_weights\n",
    "neg_contribution = negative_frequencies * neg_weights\n",
    "\n",
    "pos_contirbution, neg_contribution"
   ]
  },
  {
   "cell_type": "code",
   "execution_count": null,
   "metadata": {},
   "outputs": [],
   "source": [
    "weighted_data_df = pd.DataFrame(list(pos_contirbution.items()), columns=['class', 'positives'])\n",
    "weighted_data_df['negatives'] = neg_contribution.values\n",
    "weighted_data_df"
   ]
  },
  {
   "cell_type": "code",
   "execution_count": null,
   "metadata": {},
   "outputs": [],
   "source": [
    "weighted_data_df.plot.bar(x='class')"
   ]
  },
  {
   "cell_type": "markdown",
   "metadata": {},
   "source": [
    "## Weighted loss calculation to handle class imbalance"
   ]
  },
  {
   "cell_type": "markdown",
   "metadata": {},
   "source": [
    "As the above figure shows, by applying these weightings the positive and negative labels within each class would have the same aggregate contribution to the loss function. Now let's implement such a loss function. \n",
    "\n",
    "After computing the weights, our final weighted loss for each training case will be \n",
    "\n",
    "$$\\mathcal{L}_{cross-entropy}^{w}(x) = - (w_{p} y \\log(f(x)) + w_{n}(1-y) \\log( 1 - f(x) ) ).$$"
   ]
  },
  {
   "cell_type": "code",
   "execution_count": null,
   "metadata": {},
   "outputs": [],
   "source": [
    "def get_weighted_loss(pos_weights, neg_weights, epsilon=1e-7):\n",
    "    \"\"\"\n",
    "    Return weighted loss function given negative weights and positive weights.\n",
    "\n",
    "    Args:\n",
    "      pos_weights (np.array): array of positive weights for each class, size (num_classes)\n",
    "      neg_weights (np.array): array of negative weights for each class, size (num_classes)\n",
    "    \n",
    "    Returns:\n",
    "      weighted_loss (function): weighted loss function\n",
    "    \"\"\"\n",
    "    def weighted_loss(y_true, y_pred):\n",
    "        \"\"\"\n",
    "        Return weighted loss value. \n",
    "\n",
    "        Args:\n",
    "            y_true (Tensor): Tensor of true labels, size is (num_examples, num_classes)\n",
    "            y_pred (Tensor): Tensor of predicted labels, size is (num_examples, num_classes)\n",
    "        Returns:\n",
    "            loss (float): overall scalar loss summed across all classes\n",
    "        \"\"\"\n",
    "        # initialize loss to zero\n",
    "        loss = 0.0\n",
    "\n",
    "        for i in range(len(pos_weights)):\n",
    "            y = y_true[:, i]\n",
    "            f_of_x = y_pred[:, i]\n",
    "\n",
    "            f_of_x_log = K.log(f_of_x + epsilon)\n",
    "            f_of_x_1_min_log = K.log((1-f_of_x) + epsilon)\n",
    "\n",
    "            first_term = pos_weights[i] * y * f_of_x_log\n",
    "            sec_term = neg_weights[i] * (1-y) * f_of_x_1_min_log\n",
    "            loss_per_col = - K.mean(first_term + sec_term)\n",
    "            loss += loss_per_col\n",
    "        return loss\n",
    "\n",
    "    return weighted_loss\n",
    "\n"
   ]
  },
  {
   "cell_type": "markdown",
   "metadata": {},
   "source": [
    "## Model Development"
   ]
  },
  {
   "cell_type": "markdown",
   "metadata": {},
   "source": [
    "### Load and Prepare DenseNet121 Model"
   ]
  },
  {
   "cell_type": "code",
   "execution_count": null,
   "metadata": {},
   "outputs": [],
   "source": [
    "#'imagenet',\n",
    "\n",
    "base_model = DenseNet121(\n",
    "     include_top=False,\n",
    "     weights='imagenet', \n",
    "     input_shape=(IMAGE_SIZE, IMAGE_SIZE, 3)  \n",
    ")\n",
    "# base_model.trainable = False\n",
    "\n",
    "\n",
    "x = base_model.output\n",
    "\n",
    "# add a global spatial average pooling layer\n",
    "x = GlobalAveragePooling2D()(x)\n",
    "x = tf.keras.layers.Dense(4096, activation='relu')(x)\n",
    "x = tf.keras.layers.Dropout(0.5)(x)\n",
    "x = tf.keras.layers.Dense(1024, activation='relu')(x)\n",
    "x = tf.keras.layers.Dropout(0.5)(x)\n",
    "# and a logistic layer\n",
    "predictions = Dense(len(labels), activation=\"sigmoid\")(x)\n",
    "\n",
    "model = Model(inputs=base_model.input, outputs=predictions)\n",
    "\n",
    "# def conv_block(filters):\n",
    "#     block = tf.keras.Sequential([\n",
    "#         tf.keras.layers.SeparableConv2D(filters, 3, activation='relu', padding='same'),\n",
    "#         tf.keras.layers.SeparableConv2D(filters, 3, activation='relu', padding='same'),\n",
    "#         tf.keras.layers.BatchNormalization(),\n",
    "#         tf.keras.layers.MaxPool2D()\n",
    "#     ]\n",
    "#     )\n",
    "    \n",
    "#     return block\n",
    "# def dense_block(units, dropout_rate):\n",
    "#     block = tf.keras.Sequential([\n",
    "#         tf.keras.layers.Dense(units, activation='relu'),\n",
    "#         tf.keras.layers.BatchNormalization(),\n",
    "#         tf.keras.layers.Dropout(dropout_rate)\n",
    "#     ])\n",
    "    \n",
    "#     return block\n",
    "\n",
    "# def build_model():\n",
    "#     model = tf.keras.Sequential([\n",
    "#         tf.keras.Input(shape=(IMAGE_SIZE, IMAGE_SIZE, 3)),\n",
    "        \n",
    "#         tf.keras.layers.Conv2D(16, 3, activation='relu', padding='same'),\n",
    "#         tf.keras.layers.Conv2D(16, 3, activation='relu', padding='same'),\n",
    "#         tf.keras.layers.MaxPool2D(),\n",
    "        \n",
    "#         conv_block(32),\n",
    "#         conv_block(64),\n",
    "        \n",
    "#         conv_block(128),\n",
    "#         tf.keras.layers.Dropout(0.2),\n",
    "        \n",
    "#         conv_block(256),\n",
    "#         tf.keras.layers.Dropout(0.2),\n",
    "        \n",
    "#         tf.keras.layers.Flatten(),\n",
    "#         dense_block(512, 0.7),\n",
    "#         dense_block(128, 0.5),\n",
    "#         dense_block(64, 0.3),\n",
    "        \n",
    "#         tf.keras.layers.Dense(len(labels), activation=\"sigmoid\")\n",
    "#     ])\n",
    "    \n",
    "#     return model"
   ]
  },
  {
   "cell_type": "code",
   "execution_count": null,
   "metadata": {},
   "outputs": [],
   "source": [
    "METRICS = [\n",
    "    'accuracy',\n",
    "    tf.keras.metrics.Precision(name='precision'),\n",
    "    tf.keras.metrics.Recall(name='recall'),\n",
    "    tf.keras.metrics.AUC(name='AUC'), \n",
    "]"
   ]
  },
  {
   "cell_type": "code",
   "execution_count": null,
   "metadata": {},
   "outputs": [],
   "source": [
    "tf.keras.backend.clear_session()\n",
    "\n",
    "LEARNING_RATE = 0.1\n",
    "EPOCHS = 50\n",
    "# model = build_model()\n",
    "\n",
    "model.compile(optimizer=tf.keras.optimizers.Adam(learning_rate=LEARNING_RATE), \n",
    "               loss=get_weighted_loss(pos_weights, neg_weights),\n",
    "        metrics=METRICS)     \n",
    "\n",
    "# model.summary()"
   ]
  },
  {
   "cell_type": "markdown",
   "metadata": {},
   "source": [
    "## Model training"
   ]
  },
  {
   "cell_type": "markdown",
   "metadata": {},
   "source": [
    "## Callbacks"
   ]
  },
  {
   "cell_type": "code",
   "execution_count": null,
   "metadata": {},
   "outputs": [],
   "source": [
    "CHECK_POINT_DIR = 'exported_models'\n",
    "checkpoint_prefix = os.path.join(CHECK_POINT_DIR, \"ckpt_{epoch}\")\n",
    "LOG_DIR = 'logs'"
   ]
  },
  {
   "cell_type": "code",
   "execution_count": null,
   "metadata": {},
   "outputs": [],
   "source": [
    "callbacks = [\n",
    "    tf.keras.callbacks.TensorBoard(log_dir=LOG_DIR),\n",
    "    tf.keras.callbacks.ModelCheckpoint(filepath=checkpoint_prefix,\n",
    "                                       save_weights_only=True,\n",
    "                                        save_best_only=True,\n",
    "                                        monitor='val_loss',\n",
    "                                        mode='min'),\n",
    "    tf.keras.callbacks.EarlyStopping(monitor='val_loss', patience=10, restore_best_weights=True),\n",
    "    tf.keras.callbacks.ReduceLROnPlateau(monitor='val_loss', factor=0.1, patience=5, min_lr=0.00001)\n",
    "]"
   ]
  },
  {
   "cell_type": "code",
   "execution_count": null,
   "metadata": {},
   "outputs": [],
   "source": [
    "history = model.fit(train_ds, \n",
    "                    validation_data=valid_ds,\n",
    "                    epochs = EPOCHS,\n",
    "                    callbacks=callbacks)"
   ]
  },
  {
   "cell_type": "markdown",
   "metadata": {},
   "source": [
    "## Fine-Tune the Model\n",
    "Right now, our model is sort of smart. We'll change the learning rate so it doesn't jump to conclusions too quickly."
   ]
  },
  {
   "cell_type": "code",
   "execution_count": null,
   "metadata": {},
   "outputs": [],
   "source": [
    "# base_model.trainable = True\n",
    "# fine_tune_at = 149 \n",
    "\n",
    "# # Freeze all layers before the fine_tune_at layer\n",
    "# for layer in base_model.layers[:fine_tune_at]:\n",
    "#     layer.trainable = False\n",
    "\n",
    "# # Recompile the model with a lower learning rate\n",
    "# model.compile(\n",
    "#     optimizer=tf.keras.optimizers.Adam(learning_rate=1e-5),\n",
    "#     loss=get_weighted_loss(pos_weights, neg_weights),\n",
    "#     metrics=METRICS\n",
    "# )\n",
    "\n",
    "# # Set the number of epochs for fine-tuning\n",
    "# fine_tune_epochs = 20\n",
    "# total_epochs = EPOCHS + fine_tune_epochs  # Total epochs\n",
    "\n",
    "# # Continue training the model with fine-tuning\n",
    "# history_fine = model.fit(\n",
    "#     train_ds,\n",
    "#     epochs=total_epochs,\n",
    "#     initial_epoch=history.epoch[-1],  # Start from the last epoch of initial training\n",
    "#     validation_data=valid_ds,\n",
    "#     callbacks=callbacks  \n",
    "# )"
   ]
  },
  {
   "cell_type": "code",
   "execution_count": null,
   "metadata": {},
   "outputs": [],
   "source": [
    "plt.plot(history.history['loss'])\n",
    "plt.plot(history.history['val_loss'])\n",
    "plt.legend(['train_loss', 'val_loss'])\n",
    "plt.ylabel(\"loss\")\n",
    "plt.xlabel(\"epoch\")\n",
    "plt.title(\"Training Loss Curve\")\n",
    "plt.show()"
   ]
  },
  {
   "cell_type": "code",
   "execution_count": null,
   "metadata": {},
   "outputs": [],
   "source": [
    "plt.plot(history.history['accuracy'])\n",
    "plt.plot(history.history['val_accuracy'])\n",
    "plt.legend(['accuracy', 'val_accuracy'])\n",
    "plt.ylabel(\"accuracy\")\n",
    "plt.xlabel(\"epoch\")\n",
    "plt.title(\"Training Accuracy Curve\")\n",
    "plt.show()"
   ]
  },
  {
   "cell_type": "code",
   "execution_count": null,
   "metadata": {},
   "outputs": [],
   "source": []
  }
 ],
 "metadata": {
  "kaggle": {
   "accelerator": "none",
   "dataSources": [
    {
     "datasetId": 4667,
     "sourceId": 7773,
     "sourceType": "datasetVersion"
    }
   ],
   "isGpuEnabled": false,
   "isInternetEnabled": true,
   "language": "python",
   "sourceType": "notebook"
  },
  "kernelspec": {
   "display_name": "usr",
   "language": "python",
   "name": "python3"
  },
  "language_info": {
   "codemirror_mode": {
    "name": "ipython",
    "version": 3
   },
   "file_extension": ".py",
   "mimetype": "text/x-python",
   "name": "python",
   "nbconvert_exporter": "python",
   "pygments_lexer": "ipython3",
   "version": "3.12.3"
  }
 },
 "nbformat": 4,
 "nbformat_minor": 4
}
